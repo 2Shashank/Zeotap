{
 "cells": [
  {
   "cell_type": "markdown",
   "id": "fe7ef501",
   "metadata": {},
   "source": [
    "# Task 2: Lookalike Model"
   ]
  },
  {
   "cell_type": "code",
   "execution_count": 13,
   "id": "16e5bdd0",
   "metadata": {},
   "outputs": [],
   "source": [
    "import pandas as pd\n",
    "from sklearn.metrics.pairwise import cosine_similarity\n",
    "from sklearn.preprocessing import StandardScaler"
   ]
  },
  {
   "cell_type": "code",
   "execution_count": 14,
   "id": "c879055e",
   "metadata": {},
   "outputs": [],
   "source": [
    "customers = pd.read_csv('Customers.csv')\n",
    "# prducts = pd.read_csv('Products.csv')\n",
    "transactions = pd.read_csv('Transactions.csv')"
   ]
  },
  {
   "cell_type": "markdown",
   "id": "ab1e854e",
   "metadata": {},
   "source": [
    "#### Filter for first 20 customers\n"
   ]
  },
  {
   "cell_type": "code",
   "execution_count": 16,
   "id": "24084665",
   "metadata": {},
   "outputs": [],
   "source": [
    "filtered_customers = customers[customers['CustomerID'].isin([f\"C{i:04d}\" for i in range(1, 21)])]"
   ]
  },
  {
   "cell_type": "markdown",
   "id": "fac00830",
   "metadata": {},
   "source": [
    "#### Merge transactions with customers and aggregate features for similarity calculation"
   ]
  },
  {
   "cell_type": "code",
   "execution_count": 17,
   "id": "298c27f1",
   "metadata": {},
   "outputs": [],
   "source": [
    "customer_transactions = transactions.merge(filtered_customers, on='CustomerID')\n",
    "\n",
    "customer_features = customer_transactions.groupby('CustomerID').agg({\n",
    "    'TotalValue': 'sum',\n",
    "    'Quantity': 'sum',\n",
    "    'ProductID': 'nunique'\n",
    "}).reset_index()"
   ]
  },
  {
   "cell_type": "markdown",
   "id": "4cb28b1c",
   "metadata": {},
   "source": [
    "#### Normalizing features"
   ]
  },
  {
   "cell_type": "code",
   "execution_count": 18,
   "id": "29593bc5",
   "metadata": {},
   "outputs": [],
   "source": [
    "scaler = StandardScaler()\n",
    "scaled_features = scaler.fit_transform(customer_features.iloc[:, 1:])"
   ]
  },
  {
   "cell_type": "markdown",
   "id": "142cb065",
   "metadata": {},
   "source": [
    "#### Calculating Cos similarities"
   ]
  },
  {
   "cell_type": "code",
   "execution_count": 19,
   "id": "66792453",
   "metadata": {},
   "outputs": [],
   "source": [
    "similarity_matrix = cosine_similarity(scaled_features)"
   ]
  },
  {
   "cell_type": "markdown",
   "id": "4199417a",
   "metadata": {},
   "source": [
    "#### Generating top 3 lookalikes for each customer"
   ]
  },
  {
   "cell_type": "code",
   "execution_count": 20,
   "id": "132824b7",
   "metadata": {},
   "outputs": [],
   "source": [
    "lookalike_results = {}\n",
    "for i, customer_id in enumerate(customer_features['CustomerID']):\n",
    "    sim_scores = similarity_matrix[i]\n",
    "    top_indices = sim_scores.argsort()[-4:-1][::-1]\n",
    "    lookalike_results[customer_id] = [(customer_features['CustomerID'][j], round(sim_scores[j], 4)) for j in top_indices]\n"
   ]
  },
  {
   "cell_type": "markdown",
   "id": "860b6682",
   "metadata": {},
   "source": [
    "#### Convert results to DataFrame for Lookalike.csv"
   ]
  },
  {
   "cell_type": "code",
   "execution_count": 21,
   "id": "a8bd69bd",
   "metadata": {},
   "outputs": [
    {
     "name": "stdout",
     "output_type": "stream",
     "text": [
      "Lookalike.csv has been successfully generated!\n"
     ]
    }
   ],
   "source": [
    "lookalike_df = pd.DataFrame({\n",
    "    'CustomerID': list(lookalike_results.keys()),\n",
    "    'Lookalikes': [str(lst) for lst in lookalike_results.values()]\n",
    "})\n",
    "\n",
    "# Save to CSV\n",
    "lookalike_df.to_csv('Lookalike.csv', index=False)\n",
    "\n",
    "print(\"Lookalike.csv has been successfully generated!\")"
   ]
  },
  {
   "cell_type": "code",
   "execution_count": 12,
   "id": "44767d1a",
   "metadata": {},
   "outputs": [],
   "source": []
  }
 ],
 "metadata": {
  "kernelspec": {
   "display_name": "Python 3 (ipykernel)",
   "language": "python",
   "name": "python3"
  },
  "language_info": {
   "codemirror_mode": {
    "name": "ipython",
    "version": 3
   },
   "file_extension": ".py",
   "mimetype": "text/x-python",
   "name": "python",
   "nbconvert_exporter": "python",
   "pygments_lexer": "ipython3",
   "version": "3.9.12"
  }
 },
 "nbformat": 4,
 "nbformat_minor": 5
}
